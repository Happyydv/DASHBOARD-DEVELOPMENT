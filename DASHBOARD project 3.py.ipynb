{
 "cells": [
  {
   "cell_type": "code",
   "execution_count": null,
   "id": "1ef5461a-63c4-436d-86d1-b2431a86bcbd",
   "metadata": {},
   "outputs": [],
   "source": []
  },
  {
   "cell_type": "code",
   "execution_count": 10,
   "id": "cf0d2b0d-7486-4044-a361-cd9c8ab63ad7",
   "metadata": {},
   "outputs": [
    {
     "data": {
      "text/html": [
       "\n",
       "        <iframe\n",
       "            width=\"100%\"\n",
       "            height=\"650\"\n",
       "            src=\"http://127.0.0.1:8050/\"\n",
       "            frameborder=\"0\"\n",
       "            allowfullscreen\n",
       "            \n",
       "        ></iframe>\n",
       "        "
      ],
      "text/plain": [
       "<IPython.lib.display.IFrame at 0x2622ba30550>"
      ]
     },
     "metadata": {},
     "output_type": "display_data"
    }
   ],
   "source": [
    "import pandas as pd\n",
    "import plotly.express as px\n",
    "import dash\n",
    "from dash import dcc, html\n",
    "\n",
    "# Load dataset\n",
    "df = pd.read_csv(\"netflix_titles.csv\")\n",
    "\n",
    "# Clean data safely (no inplace warning)\n",
    "df['country'] = df['country'].fillna(\"Unknown\")\n",
    "df['type'] = df['type'].fillna(\"Unknown\")\n",
    "df['date_added'] = pd.to_datetime(df['date_added'], errors='coerce')\n",
    "df['year_added'] = df['date_added'].dt.year\n",
    "\n",
    "# Create Dash app\n",
    "app = dash.Dash(__name__)\n",
    "\n",
    "# Graph 1: Content type distribution\n",
    "fig1 = px.histogram(df, x=\"type\", title=\"Distribution of Content Types\")\n",
    "\n",
    "# Graph 2: Top 10 countries by content count\n",
    "top_countries = df['country'].value_counts().nlargest(10).reset_index()\n",
    "top_countries.columns = ['country', 'count']\n",
    "fig2 = px.bar(top_countries, x='country', y='count', title=\"Top 10 Countries by Content Count\")\n",
    "\n",
    "# Graph 3: Titles added per year\n",
    "yearly_adds = df['year_added'].value_counts().sort_index().reset_index()\n",
    "yearly_adds.columns = ['year_added', 'count']\n",
    "fig3 = px.line(yearly_adds, x='year_added', y='count', title=\"Titles Added Over the Years\")\n",
    "\n",
    "# Layout of dashboard\n",
    "app.layout = html.Div([\n",
    "    html.H1(\"Netflix Data Dashboard\", style={'textAlign': 'center'}),\n",
    "    dcc.Graph(figure=fig1),\n",
    "    dcc.Graph(figure=fig2),\n",
    "    dcc.Graph(figure=fig3)\n",
    "])\n",
    "\n",
    "# Run the app\n",
    "if __name__ == '__main__':\n",
    "    app.run(debug=True)\n"
   ]
  },
  {
   "cell_type": "code",
   "execution_count": null,
   "id": "ee3dd854-7445-4db5-8f8c-ae7ba2f21924",
   "metadata": {},
   "outputs": [],
   "source": []
  },
  {
   "cell_type": "code",
   "execution_count": null,
   "id": "b580322a-8c73-4fda-ad8f-f6bf1908df36",
   "metadata": {},
   "outputs": [],
   "source": []
  },
  {
   "cell_type": "code",
   "execution_count": null,
   "id": "19a0b7dd-fbc1-4db9-9c40-e66348cc8ab5",
   "metadata": {},
   "outputs": [],
   "source": []
  },
  {
   "cell_type": "code",
   "execution_count": null,
   "id": "7237098f-82ad-4679-9231-f403db8c6c65",
   "metadata": {},
   "outputs": [],
   "source": []
  }
 ],
 "metadata": {
  "kernelspec": {
   "display_name": "Python 3 (ipykernel)",
   "language": "python",
   "name": "python3"
  },
  "language_info": {
   "codemirror_mode": {
    "name": "ipython",
    "version": 3
   },
   "file_extension": ".py",
   "mimetype": "text/x-python",
   "name": "python",
   "nbconvert_exporter": "python",
   "pygments_lexer": "ipython3",
   "version": "3.13.5"
  }
 },
 "nbformat": 4,
 "nbformat_minor": 5
}
